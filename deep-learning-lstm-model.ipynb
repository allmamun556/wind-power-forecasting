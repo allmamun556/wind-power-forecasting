{
 "cells": [
  {
   "cell_type": "code",
   "execution_count": 6,
   "metadata": {
    "execution": {
     "iopub.execute_input": "2021-01-05T13:32:57.376442Z",
     "iopub.status.busy": "2021-01-05T13:32:57.375696Z",
     "iopub.status.idle": "2021-01-05T13:33:04.739332Z",
     "shell.execute_reply": "2021-01-05T13:33:04.738596Z"
    },
    "papermill": {
     "duration": 7.399236,
     "end_time": "2021-01-05T13:33:04.739487",
     "exception": false,
     "start_time": "2021-01-05T13:32:57.340251",
     "status": "completed"
    },
    "tags": []
   },
   "outputs": [
    {
     "ename": "ModuleNotFoundError",
     "evalue": "No module named 'tensorflow.keras.wrappers'",
     "output_type": "error",
     "traceback": [
      "\u001b[0;31m---------------------------------------------------------------------------\u001b[0m",
      "\u001b[0;31mModuleNotFoundError\u001b[0m                       Traceback (most recent call last)",
      "Cell \u001b[0;32mIn[6], line 15\u001b[0m\n\u001b[1;32m     13\u001b[0m \u001b[38;5;28;01mfrom\u001b[39;00m \u001b[38;5;21;01mkeras\u001b[39;00m\u001b[38;5;21;01m.\u001b[39;00m\u001b[38;5;21;01mlayers\u001b[39;00m \u001b[38;5;28;01mimport\u001b[39;00m LSTM, Dense, Dropout\n\u001b[1;32m     14\u001b[0m \u001b[38;5;28;01mfrom\u001b[39;00m \u001b[38;5;21;01mkeras\u001b[39;00m\u001b[38;5;21;01m.\u001b[39;00m\u001b[38;5;21;01mcallbacks\u001b[39;00m \u001b[38;5;28;01mimport\u001b[39;00m EarlyStopping \n\u001b[0;32m---> 15\u001b[0m \u001b[38;5;28;01mfrom\u001b[39;00m \u001b[38;5;21;01mtensorflow\u001b[39;00m\u001b[38;5;21;01m.\u001b[39;00m\u001b[38;5;21;01mkeras\u001b[39;00m\u001b[38;5;21;01m.\u001b[39;00m\u001b[38;5;21;01mwrappers\u001b[39;00m\u001b[38;5;21;01m.\u001b[39;00m\u001b[38;5;21;01mscikit_learn\u001b[39;00m \u001b[38;5;28;01mimport\u001b[39;00m KerasRegressor\n",
      "\u001b[0;31mModuleNotFoundError\u001b[0m: No module named 'tensorflow.keras.wrappers'"
     ]
    }
   ],
   "source": [
    "import pandas as pd\n",
    "import numpy as np\n",
    "import seaborn as sns\n",
    "import matplotlib.pyplot as plt\n",
    "import keras \n",
    "from sklearn.preprocessing import MinMaxScaler\n",
    "from sklearn.model_selection import RandomizedSearchCV, TimeSeriesSplit\n",
    "from sklearn.metrics import mean_squared_error, mean_absolute_error, r2_score\n",
    "from keras.layers import LSTM, Dense, Dropout\n",
    "from keras.callbacks import EarlyStopping \n",
    "#from keras.wrappers.scikit_learn import KerasRegressor\n",
    "from keras.models import Sequential\n",
    "from keras.layers import LSTM, Dense, Dropout\n",
    "from keras.callbacks import EarlyStopping \n",
    "#from tensorflow.keras.wrappers.scikit_learn import KerasRegressor\n"
   ]
  },
  {
   "cell_type": "code",
   "execution_count": 2,
   "metadata": {
    "execution": {
     "iopub.execute_input": "2021-01-05T13:33:04.788046Z",
     "iopub.status.busy": "2021-01-05T13:33:04.787305Z",
     "iopub.status.idle": "2021-01-05T13:33:04.874456Z",
     "shell.execute_reply": "2021-01-05T13:33:04.874980Z"
    },
    "papermill": {
     "duration": 0.116522,
     "end_time": "2021-01-05T13:33:04.875144",
     "exception": false,
     "start_time": "2021-01-05T13:33:04.758622",
     "status": "completed"
    },
    "tags": []
   },
   "outputs": [
    {
     "data": {
      "text/html": [
       "<div>\n",
       "<style scoped>\n",
       "    .dataframe tbody tr th:only-of-type {\n",
       "        vertical-align: middle;\n",
       "    }\n",
       "\n",
       "    .dataframe tbody tr th {\n",
       "        vertical-align: top;\n",
       "    }\n",
       "\n",
       "    .dataframe thead th {\n",
       "        text-align: right;\n",
       "    }\n",
       "</style>\n",
       "<table border=\"1\" class=\"dataframe\">\n",
       "  <thead>\n",
       "    <tr style=\"text-align: right;\">\n",
       "      <th></th>\n",
       "      <th>Power</th>\n",
       "      <th>Wind_speed</th>\n",
       "      <th>Theoretical_power</th>\n",
       "      <th>Loss</th>\n",
       "      <th>x_com</th>\n",
       "      <th>y_com</th>\n",
       "      <th>T_1</th>\n",
       "    </tr>\n",
       "    <tr>\n",
       "      <th>Date/Time</th>\n",
       "      <th></th>\n",
       "      <th></th>\n",
       "      <th></th>\n",
       "      <th></th>\n",
       "      <th></th>\n",
       "      <th></th>\n",
       "      <th></th>\n",
       "    </tr>\n",
       "  </thead>\n",
       "  <tbody>\n",
       "    <tr>\n",
       "      <th>2018-01-01 01:00:00</th>\n",
       "      <td>460.537125</td>\n",
       "      <td>5.644205</td>\n",
       "      <td>513.418408</td>\n",
       "      <td>52.881284</td>\n",
       "      <td>-1.068567</td>\n",
       "      <td>-5.515860</td>\n",
       "      <td>390.480362</td>\n",
       "    </tr>\n",
       "    <tr>\n",
       "      <th>2018-01-01 02:00:00</th>\n",
       "      <td>733.655375</td>\n",
       "      <td>6.452037</td>\n",
       "      <td>788.401310</td>\n",
       "      <td>54.745935</td>\n",
       "      <td>-0.176225</td>\n",
       "      <td>-6.440522</td>\n",
       "      <td>460.537125</td>\n",
       "    </tr>\n",
       "    <tr>\n",
       "      <th>2018-01-01 03:00:00</th>\n",
       "      <td>909.362081</td>\n",
       "      <td>6.811455</td>\n",
       "      <td>948.793346</td>\n",
       "      <td>39.431265</td>\n",
       "      <td>-1.652917</td>\n",
       "      <td>-6.596464</td>\n",
       "      <td>733.655375</td>\n",
       "    </tr>\n",
       "    <tr>\n",
       "      <th>2018-01-01 04:00:00</th>\n",
       "      <td>1393.518188</td>\n",
       "      <td>7.748749</td>\n",
       "      <td>1406.391795</td>\n",
       "      <td>12.873607</td>\n",
       "      <td>-2.912491</td>\n",
       "      <td>-7.138868</td>\n",
       "      <td>909.362081</td>\n",
       "    </tr>\n",
       "    <tr>\n",
       "      <th>2018-01-01 05:00:00</th>\n",
       "      <td>1149.599162</td>\n",
       "      <td>7.236854</td>\n",
       "      <td>1128.194441</td>\n",
       "      <td>-21.404721</td>\n",
       "      <td>-3.170687</td>\n",
       "      <td>-6.478943</td>\n",
       "      <td>1393.518188</td>\n",
       "    </tr>\n",
       "  </tbody>\n",
       "</table>\n",
       "</div>"
      ],
      "text/plain": [
       "                           Power  Wind_speed  Theoretical_power       Loss  \\\n",
       "Date/Time                                                                    \n",
       "2018-01-01 01:00:00   460.537125    5.644205         513.418408  52.881284   \n",
       "2018-01-01 02:00:00   733.655375    6.452037         788.401310  54.745935   \n",
       "2018-01-01 03:00:00   909.362081    6.811455         948.793346  39.431265   \n",
       "2018-01-01 04:00:00  1393.518188    7.748749        1406.391795  12.873607   \n",
       "2018-01-01 05:00:00  1149.599162    7.236854        1128.194441 -21.404721   \n",
       "\n",
       "                        x_com     y_com          T_1  \n",
       "Date/Time                                             \n",
       "2018-01-01 01:00:00 -1.068567 -5.515860   390.480362  \n",
       "2018-01-01 02:00:00 -0.176225 -6.440522   460.537125  \n",
       "2018-01-01 03:00:00 -1.652917 -6.596464   733.655375  \n",
       "2018-01-01 04:00:00 -2.912491 -7.138868   909.362081  \n",
       "2018-01-01 05:00:00 -3.170687 -6.478943  1393.518188  "
      ]
     },
     "execution_count": 2,
     "metadata": {},
     "output_type": "execute_result"
    }
   ],
   "source": [
    "#read in data\n",
    "df = pd.read_csv('../input/hourly-nm/hourly_nm.csv',index_col='Date/Time')\n",
    "df.head()"
   ]
  },
  {
   "cell_type": "code",
   "execution_count": 3,
   "metadata": {
    "execution": {
     "iopub.execute_input": "2021-01-05T13:33:04.925724Z",
     "iopub.status.busy": "2021-01-05T13:33:04.920075Z",
     "iopub.status.idle": "2021-01-05T13:33:04.962979Z",
     "shell.execute_reply": "2021-01-05T13:33:04.962031Z"
    },
    "papermill": {
     "duration": 0.068412,
     "end_time": "2021-01-05T13:33:04.963121",
     "exception": false,
     "start_time": "2021-01-05T13:33:04.894709",
     "status": "completed"
    },
    "tags": []
   },
   "outputs": [
    {
     "name": "stdout",
     "output_type": "stream",
     "text": [
      "<class 'pandas.core.frame.DataFrame'>\n",
      "Index: 8759 entries, 2018-01-01 01:00:00 to 2018-12-31 23:00:00\n",
      "Data columns (total 7 columns):\n",
      " #   Column             Non-Null Count  Dtype  \n",
      "---  ------             --------------  -----  \n",
      " 0   Power              8759 non-null   float64\n",
      " 1   Wind_speed         8759 non-null   float64\n",
      " 2   Theoretical_power  8759 non-null   float64\n",
      " 3   Loss               8759 non-null   float64\n",
      " 4   x_com              8759 non-null   float64\n",
      " 5   y_com              8759 non-null   float64\n",
      " 6   T_1                8759 non-null   float64\n",
      "dtypes: float64(7)\n",
      "memory usage: 547.4+ KB\n",
      "None\n",
      "\n",
      "             Power   Wind_speed  Theoretical_power         Loss        x_com  \\\n",
      "count  8759.000000  8759.000000        8759.000000  8759.000000  8759.000000   \n",
      "mean   1318.141216     7.463044        1477.300912   159.159695     0.425291   \n",
      "std    1272.154339     4.161819        1334.998877   316.032952     6.453773   \n",
      "min      -0.179522     0.000000           0.000000  -342.198605   -23.562965   \n",
      "25%     131.945762     4.157298         191.685944     6.803021    -2.339228   \n",
      "50%     887.976049     7.044580        1084.711233    70.070597     1.930152   \n",
      "75%    2413.847412    10.135154        2818.334982   185.948800     4.733412   \n",
      "max    3604.410034    23.746877        3600.000000  3239.191602    15.928531   \n",
      "\n",
      "             y_com          T_1  \n",
      "count  8759.000000  8759.000000  \n",
      "mean      2.132712  1317.887059  \n",
      "std       5.098658  1272.117264  \n",
      "min     -14.872894    -0.179522  \n",
      "25%      -1.661516   131.945762  \n",
      "50%       2.376810   887.463231  \n",
      "75%       5.838316  2412.657420  \n",
      "max      15.552038  3604.410034  \n"
     ]
    }
   ],
   "source": [
    "print(df.info())\n",
    "print()\n",
    "print(df.describe())"
   ]
  },
  {
   "cell_type": "code",
   "execution_count": 4,
   "metadata": {
    "execution": {
     "iopub.execute_input": "2021-01-05T13:33:05.010857Z",
     "iopub.status.busy": "2021-01-05T13:33:05.010079Z",
     "iopub.status.idle": "2021-01-05T13:33:05.013686Z",
     "shell.execute_reply": "2021-01-05T13:33:05.013107Z"
    },
    "papermill": {
     "duration": 0.031151,
     "end_time": "2021-01-05T13:33:05.013819",
     "exception": false,
     "start_time": "2021-01-05T13:33:04.982668",
     "status": "completed"
    },
    "tags": []
   },
   "outputs": [],
   "source": [
    "#split data into training and testing, testing data will be one month\n",
    "start_test = '2018-11-31'\n",
    "\n",
    "train, test = df.loc[:start_test], df.loc[start_test:]"
   ]
  },
  {
   "cell_type": "code",
   "execution_count": 5,
   "metadata": {
    "execution": {
     "iopub.execute_input": "2021-01-05T13:33:05.061647Z",
     "iopub.status.busy": "2021-01-05T13:33:05.060900Z",
     "iopub.status.idle": "2021-01-05T13:33:05.068911Z",
     "shell.execute_reply": "2021-01-05T13:33:05.069454Z"
    },
    "papermill": {
     "duration": 0.036258,
     "end_time": "2021-01-05T13:33:05.069623",
     "exception": false,
     "start_time": "2021-01-05T13:33:05.033365",
     "status": "completed"
    },
    "tags": []
   },
   "outputs": [
    {
     "data": {
      "text/html": [
       "<div>\n",
       "<style scoped>\n",
       "    .dataframe tbody tr th:only-of-type {\n",
       "        vertical-align: middle;\n",
       "    }\n",
       "\n",
       "    .dataframe tbody tr th {\n",
       "        vertical-align: top;\n",
       "    }\n",
       "\n",
       "    .dataframe thead th {\n",
       "        text-align: right;\n",
       "    }\n",
       "</style>\n",
       "<table border=\"1\" class=\"dataframe\">\n",
       "  <thead>\n",
       "    <tr style=\"text-align: right;\">\n",
       "      <th></th>\n",
       "      <th>Power</th>\n",
       "      <th>Wind_speed</th>\n",
       "      <th>Theoretical_power</th>\n",
       "      <th>Loss</th>\n",
       "      <th>x_com</th>\n",
       "      <th>y_com</th>\n",
       "      <th>T_1</th>\n",
       "    </tr>\n",
       "    <tr>\n",
       "      <th>Date/Time</th>\n",
       "      <th></th>\n",
       "      <th></th>\n",
       "      <th></th>\n",
       "      <th></th>\n",
       "      <th></th>\n",
       "      <th></th>\n",
       "      <th></th>\n",
       "    </tr>\n",
       "  </thead>\n",
       "  <tbody>\n",
       "    <tr>\n",
       "      <th>2018-11-30 23:00:00</th>\n",
       "      <td>87.315742</td>\n",
       "      <td>5.643659</td>\n",
       "      <td>516.885226</td>\n",
       "      <td>429.569483</td>\n",
       "      <td>3.995407</td>\n",
       "      <td>3.978305</td>\n",
       "      <td>231.796605</td>\n",
       "    </tr>\n",
       "  </tbody>\n",
       "</table>\n",
       "</div>"
      ],
      "text/plain": [
       "                         Power  Wind_speed  Theoretical_power        Loss  \\\n",
       "Date/Time                                                                   \n",
       "2018-11-30 23:00:00  87.315742    5.643659         516.885226  429.569483   \n",
       "\n",
       "                        x_com     y_com         T_1  \n",
       "Date/Time                                            \n",
       "2018-11-30 23:00:00  3.995407  3.978305  231.796605  "
      ]
     },
     "execution_count": 5,
     "metadata": {},
     "output_type": "execute_result"
    }
   ],
   "source": [
    "train.tail(1)"
   ]
  },
  {
   "cell_type": "code",
   "execution_count": 6,
   "metadata": {
    "execution": {
     "iopub.execute_input": "2021-01-05T13:33:05.123055Z",
     "iopub.status.busy": "2021-01-05T13:33:05.122144Z",
     "iopub.status.idle": "2021-01-05T13:33:05.127084Z",
     "shell.execute_reply": "2021-01-05T13:33:05.126455Z"
    },
    "papermill": {
     "duration": 0.037553,
     "end_time": "2021-01-05T13:33:05.127196",
     "exception": false,
     "start_time": "2021-01-05T13:33:05.089643",
     "status": "completed"
    },
    "tags": []
   },
   "outputs": [
    {
     "data": {
      "text/html": [
       "<div>\n",
       "<style scoped>\n",
       "    .dataframe tbody tr th:only-of-type {\n",
       "        vertical-align: middle;\n",
       "    }\n",
       "\n",
       "    .dataframe tbody tr th {\n",
       "        vertical-align: top;\n",
       "    }\n",
       "\n",
       "    .dataframe thead th {\n",
       "        text-align: right;\n",
       "    }\n",
       "</style>\n",
       "<table border=\"1\" class=\"dataframe\">\n",
       "  <thead>\n",
       "    <tr style=\"text-align: right;\">\n",
       "      <th></th>\n",
       "      <th>Power</th>\n",
       "      <th>Wind_speed</th>\n",
       "      <th>Theoretical_power</th>\n",
       "      <th>Loss</th>\n",
       "      <th>x_com</th>\n",
       "      <th>y_com</th>\n",
       "      <th>T_1</th>\n",
       "    </tr>\n",
       "    <tr>\n",
       "      <th>Date/Time</th>\n",
       "      <th></th>\n",
       "      <th></th>\n",
       "      <th></th>\n",
       "      <th></th>\n",
       "      <th></th>\n",
       "      <th></th>\n",
       "      <th></th>\n",
       "    </tr>\n",
       "  </thead>\n",
       "  <tbody>\n",
       "    <tr>\n",
       "      <th>2018-12-01 00:00:00</th>\n",
       "      <td>280.210704</td>\n",
       "      <td>4.57214</td>\n",
       "      <td>281.809039</td>\n",
       "      <td>1.598335</td>\n",
       "      <td>-2.893603</td>\n",
       "      <td>-3.518642</td>\n",
       "      <td>87.315742</td>\n",
       "    </tr>\n",
       "  </tbody>\n",
       "</table>\n",
       "</div>"
      ],
      "text/plain": [
       "                          Power  Wind_speed  Theoretical_power      Loss  \\\n",
       "Date/Time                                                                  \n",
       "2018-12-01 00:00:00  280.210704     4.57214         281.809039  1.598335   \n",
       "\n",
       "                        x_com     y_com        T_1  \n",
       "Date/Time                                           \n",
       "2018-12-01 00:00:00 -2.893603 -3.518642  87.315742  "
      ]
     },
     "execution_count": 6,
     "metadata": {},
     "output_type": "execute_result"
    }
   ],
   "source": [
    "test.head(1)"
   ]
  },
  {
   "cell_type": "code",
   "execution_count": 7,
   "metadata": {
    "execution": {
     "iopub.execute_input": "2021-01-05T13:33:05.173160Z",
     "iopub.status.busy": "2021-01-05T13:33:05.172463Z",
     "iopub.status.idle": "2021-01-05T13:33:05.177794Z",
     "shell.execute_reply": "2021-01-05T13:33:05.178268Z"
    },
    "papermill": {
     "duration": 0.030265,
     "end_time": "2021-01-05T13:33:05.178444",
     "exception": false,
     "start_time": "2021-01-05T13:33:05.148179",
     "status": "completed"
    },
    "tags": []
   },
   "outputs": [
    {
     "name": "stdout",
     "output_type": "stream",
     "text": [
      "8015\n",
      "744\n"
     ]
    }
   ],
   "source": [
    "print(len(train))\n",
    "print(len(test))"
   ]
  },
  {
   "cell_type": "code",
   "execution_count": 8,
   "metadata": {
    "execution": {
     "iopub.execute_input": "2021-01-05T13:33:05.228302Z",
     "iopub.status.busy": "2021-01-05T13:33:05.227528Z",
     "iopub.status.idle": "2021-01-05T13:33:05.231369Z",
     "shell.execute_reply": "2021-01-05T13:33:05.231876Z"
    },
    "papermill": {
     "duration": 0.032809,
     "end_time": "2021-01-05T13:33:05.232034",
     "exception": false,
     "start_time": "2021-01-05T13:33:05.199225",
     "status": "completed"
    },
    "tags": []
   },
   "outputs": [],
   "source": [
    "# scale the data using MinMax Scaler from -1 to 1 as LSTM has a default tanh activation function\n",
    "SCALER = MinMaxScaler(feature_range=(-1,1))\n",
    "\n",
    "scaler = SCALER.fit(train.to_numpy())\n",
    "\n",
    "train_scaled = scaler.transform(train.to_numpy())\n",
    "test_scaled = scaler.transform(test.to_numpy())"
   ]
  },
  {
   "cell_type": "code",
   "execution_count": 9,
   "metadata": {
    "execution": {
     "iopub.execute_input": "2021-01-05T13:33:05.283509Z",
     "iopub.status.busy": "2021-01-05T13:33:05.282775Z",
     "iopub.status.idle": "2021-01-05T13:33:05.288321Z",
     "shell.execute_reply": "2021-01-05T13:33:05.287776Z"
    },
    "papermill": {
     "duration": 0.03567,
     "end_time": "2021-01-05T13:33:05.288468",
     "exception": false,
     "start_time": "2021-01-05T13:33:05.252798",
     "status": "completed"
    },
    "tags": []
   },
   "outputs": [],
   "source": [
    "# create a function to split the datasets into two week windows\n",
    "timestep = 24*7*2 # 24hours,7days,2weeks\n",
    "\n",
    "def create_dataset(dataset, timestep=timestep):\n",
    "    \"\"\"\n",
    "    Function which creates two week chunks of x_train data, and a single\n",
    "    value for y_train.\n",
    "    \"\"\"\n",
    "    X, y = [], []\n",
    "    for i in range(len(dataset)):\n",
    "        target_value = i + timestep\n",
    "        if target_value == len(dataset):\n",
    "            break\n",
    "        feature_chunk, target = dataset[i:target_value, 1:], dataset[target_value, 0]\n",
    "        X.append(feature_chunk)\n",
    "        y.append(target)\n",
    "    \n",
    "    return np.array(X), np.array(y) "
   ]
  },
  {
   "cell_type": "code",
   "execution_count": 10,
   "metadata": {
    "execution": {
     "iopub.execute_input": "2021-01-05T13:33:05.348657Z",
     "iopub.status.busy": "2021-01-05T13:33:05.347501Z",
     "iopub.status.idle": "2021-01-05T13:33:05.422042Z",
     "shell.execute_reply": "2021-01-05T13:33:05.421447Z"
    },
    "papermill": {
     "duration": 0.112622,
     "end_time": "2021-01-05T13:33:05.422155",
     "exception": false,
     "start_time": "2021-01-05T13:33:05.309533",
     "status": "completed"
    },
    "tags": []
   },
   "outputs": [],
   "source": [
    "#create x_train, y_train, X_test,y_test\n",
    "X_train, y_train = create_dataset(train_scaled)\n",
    "X_test, y_test = create_dataset(test_scaled)"
   ]
  },
  {
   "cell_type": "code",
   "execution_count": 11,
   "metadata": {
    "execution": {
     "iopub.execute_input": "2021-01-05T13:33:05.472022Z",
     "iopub.status.busy": "2021-01-05T13:33:05.471118Z",
     "iopub.status.idle": "2021-01-05T13:33:05.476920Z",
     "shell.execute_reply": "2021-01-05T13:33:05.476294Z"
    },
    "papermill": {
     "duration": 0.033501,
     "end_time": "2021-01-05T13:33:05.477047",
     "exception": false,
     "start_time": "2021-01-05T13:33:05.443546",
     "status": "completed"
    },
    "tags": []
   },
   "outputs": [
    {
     "name": "stdout",
     "output_type": "stream",
     "text": [
      "(7679, 336, 6)\n",
      "(7679,)\n",
      "(408, 336, 6)\n",
      "(408,)\n"
     ]
    }
   ],
   "source": [
    "print(X_train.shape)\n",
    "print(y_train.shape)\n",
    "print(X_test.shape)\n",
    "print(y_test.shape)"
   ]
  },
  {
   "cell_type": "code",
   "execution_count": 12,
   "metadata": {
    "execution": {
     "iopub.execute_input": "2021-01-05T13:33:05.527252Z",
     "iopub.status.busy": "2021-01-05T13:33:05.526556Z",
     "iopub.status.idle": "2021-01-05T13:33:05.530479Z",
     "shell.execute_reply": "2021-01-05T13:33:05.529879Z"
    },
    "papermill": {
     "duration": 0.031538,
     "end_time": "2021-01-05T13:33:05.530610",
     "exception": false,
     "start_time": "2021-01-05T13:33:05.499072",
     "status": "completed"
    },
    "tags": []
   },
   "outputs": [],
   "source": [
    "# use sample of th data to train network to have a rough understanding of hyperparameters\n",
    "samp_len = int(len(X_train)*0.5)\n",
    "\n",
    "X_sample_train, y_sample_train = X_train[:samp_len], y_train[:samp_len]"
   ]
  },
  {
   "cell_type": "code",
   "execution_count": 13,
   "metadata": {
    "execution": {
     "iopub.execute_input": "2021-01-05T13:33:05.581326Z",
     "iopub.status.busy": "2021-01-05T13:33:05.580467Z",
     "iopub.status.idle": "2021-01-05T13:33:05.585743Z",
     "shell.execute_reply": "2021-01-05T13:33:05.585183Z"
    },
    "papermill": {
     "duration": 0.033096,
     "end_time": "2021-01-05T13:33:05.585876",
     "exception": false,
     "start_time": "2021-01-05T13:33:05.552780",
     "status": "completed"
    },
    "tags": []
   },
   "outputs": [
    {
     "name": "stdout",
     "output_type": "stream",
     "text": [
      "(3839, 336, 6)\n",
      "(3839,)\n"
     ]
    }
   ],
   "source": [
    "print(X_sample_train.shape)\n",
    "print(y_sample_train.shape)"
   ]
  },
  {
   "cell_type": "code",
   "execution_count": 14,
   "metadata": {
    "execution": {
     "iopub.execute_input": "2021-01-05T13:33:05.642772Z",
     "iopub.status.busy": "2021-01-05T13:33:05.639921Z",
     "iopub.status.idle": "2021-01-05T13:33:05.646677Z",
     "shell.execute_reply": "2021-01-05T13:33:05.646086Z"
    },
    "papermill": {
     "duration": 0.038421,
     "end_time": "2021-01-05T13:33:05.646814",
     "exception": false,
     "start_time": "2021-01-05T13:33:05.608393",
     "status": "completed"
    },
    "tags": []
   },
   "outputs": [],
   "source": [
    "# create X_train, y_train, X_test, y_test datasets\n",
    "# create a function to build a stacked LSTM model\n",
    "# input needs to be [samples, timesteps, features]\n",
    "def create_model(X_train, y_train):\n",
    "    units = 32\n",
    "    dropout = 0.05\n",
    "    epochs = 35\n",
    "    batch_size = 14\n",
    "    optimizer = keras.optimizers.Adam(learning_rate=0.0005)\n",
    "    early_stopping = EarlyStopping(patience=7, monitor='loss')\n",
    "\n",
    "    model = keras.Sequential()\n",
    "\n",
    "    model.add(LSTM(units=units, dropout=dropout, return_sequences=True,\n",
    "                   input_shape=(X_train.shape[1], X_train.shape[2])))\n",
    "\n",
    "    model.add(LSTM(units=units, dropout=dropout))\n",
    "\n",
    "    model.add(Dense(units=1))\n",
    "\n",
    "    model.compile(optimizer=optimizer, loss='mean_squared_error')\n",
    "    history = model.fit(X_train, y_train, validation_split=0.3, shuffle=False,\n",
    "              epochs=epochs, batch_size=batch_size, verbose=1, callbacks=[early_stopping])\n",
    "\n",
    "    return model, history"
   ]
  },
  {
   "cell_type": "code",
   "execution_count": 15,
   "metadata": {
    "execution": {
     "iopub.execute_input": "2021-01-05T13:33:05.702148Z",
     "iopub.status.busy": "2021-01-05T13:33:05.701079Z",
     "iopub.status.idle": "2021-01-05T13:33:05.704898Z",
     "shell.execute_reply": "2021-01-05T13:33:05.704205Z"
    },
    "papermill": {
     "duration": 0.035388,
     "end_time": "2021-01-05T13:33:05.705037",
     "exception": false,
     "start_time": "2021-01-05T13:33:05.669649",
     "status": "completed"
    },
    "tags": []
   },
   "outputs": [],
   "source": [
    "# function to predict a single value \n",
    "def single_prediction(model, history, timestep=timestep):\n",
    "        \n",
    "        history = np.array(history)\n",
    "        history = history.reshape(history.shape[0]*history.shape[1], history.shape[2])\n",
    "        \n",
    "        input_value = history[-timestep:]\n",
    "        input_value = input_value.reshape(1, input_value.shape[0], input_value.shape[1])\n",
    "        \n",
    "        yhat = model.predict(input_value, verbose=0)\n",
    "        return yhat"
   ]
  },
  {
   "cell_type": "code",
   "execution_count": 16,
   "metadata": {
    "execution": {
     "iopub.execute_input": "2021-01-05T13:33:05.760668Z",
     "iopub.status.busy": "2021-01-05T13:33:05.759909Z",
     "iopub.status.idle": "2021-01-05T13:33:05.763733Z",
     "shell.execute_reply": "2021-01-05T13:33:05.763071Z"
    },
    "papermill": {
     "duration": 0.035181,
     "end_time": "2021-01-05T13:33:05.764001",
     "exception": false,
     "start_time": "2021-01-05T13:33:05.728820",
     "status": "completed"
    },
    "tags": []
   },
   "outputs": [],
   "source": [
    "# function which takes first test chunk, makes a prediction, add the test chunk back into training data \n",
    "#to make next prediction\n",
    "\n",
    "def walk_forward_prediction(X_train, y_train, X_test, timestep):\n",
    "    \n",
    "    MODEL, history = create_model(X_train=X_train, y_train=y_train)\n",
    "    hist_train = [i for i in X_train]\n",
    "    predictions = []\n",
    "    \n",
    "    for i in range(len(X_test)):\n",
    "        test = X_test[i]\n",
    "        yhat = single_prediction(model=MODEL, history=hist_train, timestep=timestep)\n",
    "        predictions.append(yhat) \n",
    "        hist_train.append(test)\n",
    "    \n",
    "    return predictions, history, MODEL"
   ]
  },
  {
   "cell_type": "code",
   "execution_count": 17,
   "metadata": {
    "execution": {
     "iopub.execute_input": "2021-01-05T13:33:05.817948Z",
     "iopub.status.busy": "2021-01-05T13:33:05.817221Z",
     "iopub.status.idle": "2021-01-05T13:33:05.820695Z",
     "shell.execute_reply": "2021-01-05T13:33:05.820018Z"
    },
    "papermill": {
     "duration": 0.034246,
     "end_time": "2021-01-05T13:33:05.820812",
     "exception": false,
     "start_time": "2021-01-05T13:33:05.786566",
     "status": "completed"
    },
    "tags": []
   },
   "outputs": [],
   "source": [
    "def prior_inverse(features, targets):\n",
    "    '''\n",
    "    Append prediction value to test dataset and return a test shape format.\n",
    "    '''\n",
    "    dataset = []\n",
    "    \n",
    "    for i in range(features.shape[0]):\n",
    "        last_row, target = features[i][0], targets[i]\n",
    "        appended = np.append(last_row, target)\n",
    "        dataset.append(appended)\n",
    "    \n",
    "    return np.array(dataset) "
   ]
  },
  {
   "cell_type": "code",
   "execution_count": 18,
   "metadata": {
    "execution": {
     "iopub.execute_input": "2021-01-05T13:33:05.875735Z",
     "iopub.status.busy": "2021-01-05T13:33:05.875003Z",
     "iopub.status.idle": "2021-01-05T13:33:05.878541Z",
     "shell.execute_reply": "2021-01-05T13:33:05.877904Z"
    },
    "papermill": {
     "duration": 0.035217,
     "end_time": "2021-01-05T13:33:05.878661",
     "exception": false,
     "start_time": "2021-01-05T13:33:05.843444",
     "status": "completed"
    },
    "scrolled": true,
    "tags": []
   },
   "outputs": [],
   "source": [
    "#run experiemnt returning the real, predicted values\n",
    "def experiment(X_train, y_train, X_test, timestep):\n",
    "    \n",
    "    pred_seq, history, MODEL = walk_forward_prediction(X_train, y_train, X_test, timestep)\n",
    "    \n",
    "    pred_seq = np.array(pred_seq).reshape(-1)\n",
    "\n",
    "    pred = prior_inverse(X_test, pred_seq)\n",
    "    real = prior_inverse(X_test, y_test)\n",
    "\n",
    "    inv_pred = scaler.inverse_transform(pred)\n",
    "    inv_real = scaler.inverse_transform(real)\n",
    "\n",
    "    power_pred = inv_pred[:,-1]\n",
    "    power_real = inv_real[:,-1]\n",
    "    \n",
    "    return power_real, power_pred, history, MODEL"
   ]
  },
  {
   "cell_type": "code",
   "execution_count": 19,
   "metadata": {
    "execution": {
     "iopub.execute_input": "2021-01-05T13:33:05.930995Z",
     "iopub.status.busy": "2021-01-05T13:33:05.930248Z",
     "iopub.status.idle": "2021-01-05T14:43:47.135971Z",
     "shell.execute_reply": "2021-01-05T14:43:47.135335Z"
    },
    "papermill": {
     "duration": 4241.234725,
     "end_time": "2021-01-05T14:43:47.136105",
     "exception": false,
     "start_time": "2021-01-05T13:33:05.901380",
     "status": "completed"
    },
    "scrolled": true,
    "tags": []
   },
   "outputs": [
    {
     "name": "stdout",
     "output_type": "stream",
     "text": [
      "Epoch 1/35\n",
      "384/384 [==============================] - 118s 308ms/step - loss: 0.2356 - val_loss: 0.1738\n",
      "Epoch 2/35\n",
      "384/384 [==============================] - 117s 304ms/step - loss: 0.1331 - val_loss: 0.0997\n",
      "Epoch 3/35\n",
      "384/384 [==============================] - 117s 305ms/step - loss: 0.0966 - val_loss: 0.0797\n",
      "Epoch 4/35\n",
      "384/384 [==============================] - 119s 310ms/step - loss: 0.0900 - val_loss: 0.0746\n",
      "Epoch 5/35\n",
      "384/384 [==============================] - 119s 310ms/step - loss: 0.0848 - val_loss: 0.0727\n",
      "Epoch 6/35\n",
      "384/384 [==============================] - 119s 310ms/step - loss: 0.0806 - val_loss: 0.0709\n",
      "Epoch 7/35\n",
      "384/384 [==============================] - 118s 307ms/step - loss: 0.0806 - val_loss: 0.0712\n",
      "Epoch 8/35\n",
      "384/384 [==============================] - 119s 310ms/step - loss: 0.0802 - val_loss: 0.0689\n",
      "Epoch 9/35\n",
      "384/384 [==============================] - 119s 310ms/step - loss: 0.0787 - val_loss: 0.0707\n",
      "Epoch 10/35\n",
      "384/384 [==============================] - 118s 307ms/step - loss: 0.0794 - val_loss: 0.0713\n",
      "Epoch 11/35\n",
      "384/384 [==============================] - 117s 305ms/step - loss: 0.0791 - val_loss: 0.0692\n",
      "Epoch 12/35\n",
      "384/384 [==============================] - 117s 304ms/step - loss: 0.0768 - val_loss: 0.0674\n",
      "Epoch 13/35\n",
      "384/384 [==============================] - 118s 308ms/step - loss: 0.0775 - val_loss: 0.0677\n",
      "Epoch 14/35\n",
      "384/384 [==============================] - 118s 307ms/step - loss: 0.0765 - val_loss: 0.0690\n",
      "Epoch 15/35\n",
      "384/384 [==============================] - 118s 306ms/step - loss: 0.0744 - val_loss: 0.0680\n",
      "Epoch 16/35\n",
      "384/384 [==============================] - 118s 307ms/step - loss: 0.0743 - val_loss: 0.0683\n",
      "Epoch 17/35\n",
      "384/384 [==============================] - 119s 311ms/step - loss: 0.0750 - val_loss: 0.0677\n",
      "Epoch 18/35\n",
      "384/384 [==============================] - 119s 309ms/step - loss: 0.0747 - val_loss: 0.0677\n",
      "Epoch 19/35\n",
      "384/384 [==============================] - 123s 320ms/step - loss: 0.0729 - val_loss: 0.0688\n",
      "Epoch 20/35\n",
      "384/384 [==============================] - 121s 315ms/step - loss: 0.0741 - val_loss: 0.0683\n",
      "Epoch 21/35\n",
      "384/384 [==============================] - 122s 318ms/step - loss: 0.0741 - val_loss: 0.0698\n",
      "Epoch 22/35\n",
      "384/384 [==============================] - 123s 321ms/step - loss: 0.0734 - val_loss: 0.0675\n",
      "Epoch 23/35\n",
      "384/384 [==============================] - 123s 320ms/step - loss: 0.0745 - val_loss: 0.0701\n",
      "Epoch 24/35\n",
      "384/384 [==============================] - 121s 315ms/step - loss: 0.0736 - val_loss: 0.0691\n",
      "Epoch 25/35\n",
      "384/384 [==============================] - 120s 311ms/step - loss: 0.0713 - val_loss: 0.0669\n",
      "Epoch 26/35\n",
      "384/384 [==============================] - 119s 310ms/step - loss: 0.0725 - val_loss: 0.0670\n",
      "Epoch 27/35\n",
      "384/384 [==============================] - 119s 311ms/step - loss: 0.0740 - val_loss: 0.0667\n",
      "Epoch 28/35\n",
      "384/384 [==============================] - 120s 312ms/step - loss: 0.0727 - val_loss: 0.0690\n",
      "Epoch 29/35\n",
      "384/384 [==============================] - 120s 312ms/step - loss: 0.0719 - val_loss: 0.0695\n",
      "Epoch 30/35\n",
      "384/384 [==============================] - 120s 314ms/step - loss: 0.0710 - val_loss: 0.0691\n",
      "Epoch 31/35\n",
      "384/384 [==============================] - 120s 312ms/step - loss: 0.0728 - val_loss: 0.0677\n",
      "Epoch 32/35\n",
      "384/384 [==============================] - 119s 309ms/step - loss: 0.0716 - val_loss: 0.0668\n",
      "Epoch 33/35\n",
      "384/384 [==============================] - 120s 313ms/step - loss: 0.0725 - val_loss: 0.0687\n",
      "Epoch 34/35\n",
      "384/384 [==============================] - 119s 310ms/step - loss: 0.0729 - val_loss: 0.0671\n",
      "Epoch 35/35\n",
      "384/384 [==============================] - 119s 311ms/step - loss: 0.0724 - val_loss: 0.0677\n"
     ]
    }
   ],
   "source": [
    "power_real, power_pred, history, MODEL = experiment(X_train, y_train, X_test, timestep)\n",
    "\n",
    "loss = history.history['loss']\n",
    "val_loss = history.history['val_loss']"
   ]
  },
  {
   "cell_type": "code",
   "execution_count": 20,
   "metadata": {
    "execution": {
     "iopub.execute_input": "2021-01-05T14:43:56.338003Z",
     "iopub.status.busy": "2021-01-05T14:43:56.337234Z",
     "iopub.status.idle": "2021-01-05T14:43:56.698844Z",
     "shell.execute_reply": "2021-01-05T14:43:56.699390Z"
    },
    "papermill": {
     "duration": 4.914005,
     "end_time": "2021-01-05T14:43:56.699606",
     "exception": false,
     "start_time": "2021-01-05T14:43:51.785601",
     "status": "completed"
    },
    "tags": []
   },
   "outputs": [
    {
     "data": {
      "image/png": "[encoded data removed]",
      "text/plain": [
       "<Figure size 720x360 with 1 Axes>"
      ]
     },
     "metadata": {
      "needs_background": "light"
     },
     "output_type": "display_data"
    }
   ],
   "source": [
    "#plot validation and training convergence graph\n",
    "plt.figure(figsize=(10,5))\n",
    "plt.plot(loss, label='train')\n",
    "plt.plot(val_loss, label='validation')\n",
    "plt.legend()\n",
    "plt.xlabel('epochs')\n",
    "plt.ylabel('MSE')\n",
    "plt.title('LSTM Training Validation Loss')\n",
    "plt.tight_layout()\n",
    "plt.show()"
   ]
  },
  {
   "cell_type": "code",
   "execution_count": 21,
   "metadata": {
    "execution": {
     "iopub.execute_input": "2021-01-05T14:44:05.984388Z",
     "iopub.status.busy": "2021-01-05T14:44:05.983672Z",
     "iopub.status.idle": "2021-01-05T14:44:05.986671Z",
     "shell.execute_reply": "2021-01-05T14:44:05.985967Z"
    },
    "papermill": {
     "duration": 4.610415,
     "end_time": "2021-01-05T14:44:05.986803",
     "exception": false,
     "start_time": "2021-01-05T14:44:01.376388",
     "status": "completed"
    },
    "tags": []
   },
   "outputs": [],
   "source": [
    "x_plot = test[timestep:].index\n",
    "pred_df = pd.DataFrame({'Date':x_plot, 'Prediction': power_pred, 'True': power_real})\n",
    "pred_df.set_index('Date', inplace=True)"
   ]
  },
  {
   "cell_type": "code",
   "execution_count": 22,
   "metadata": {
    "execution": {
     "iopub.execute_input": "2021-01-05T14:44:15.098178Z",
     "iopub.status.busy": "2021-01-05T14:44:15.097489Z",
     "iopub.status.idle": "2021-01-05T14:44:15.101317Z",
     "shell.execute_reply": "2021-01-05T14:44:15.100602Z"
    },
    "papermill": {
     "duration": 4.571594,
     "end_time": "2021-01-05T14:44:15.101471",
     "exception": false,
     "start_time": "2021-01-05T14:44:10.529877",
     "status": "completed"
    },
    "tags": []
   },
   "outputs": [],
   "source": [
    "pred_df2 = pred_df['2018-12-15 01:00:00\t':'2018-12-29 02:00:00 ']"
   ]
  },
  {
   "cell_type": "code",
   "execution_count": 23,
   "metadata": {
    "execution": {
     "iopub.execute_input": "2021-01-05T14:44:24.306921Z",
     "iopub.status.busy": "2021-01-05T14:44:24.306214Z",
     "iopub.status.idle": "2021-01-05T14:44:24.555574Z",
     "shell.execute_reply": "2021-01-05T14:44:24.556077Z"
    },
    "papermill": {
     "duration": 4.889985,
     "end_time": "2021-01-05T14:44:24.556231",
     "exception": false,
     "start_time": "2021-01-05T14:44:19.666246",
     "status": "completed"
    },
    "tags": []
   },
   "outputs": [
    {
     "data": {
      "image/png": "[encoded data removed]",
      "text/plain": [
       "<Figure size 720x360 with 1 Axes>"
      ]
     },
     "metadata": {
      "needs_background": "light"
     },
     "output_type": "display_data"
    }
   ],
   "source": [
    "#plot predictions\n",
    "pred_df2.plot(rot='60',figsize=(10,5))\n",
    "plt.title('Predicted Power vs Actual Power with LSTM an Model.')\n",
    "plt.ylabel('Power(KWh)')\n",
    "plt.tight_layout()\n",
    "plt.show()"
   ]
  },
  {
   "cell_type": "code",
   "execution_count": 24,
   "metadata": {
    "execution": {
     "iopub.execute_input": "2021-01-05T14:44:33.703750Z",
     "iopub.status.busy": "2021-01-05T14:44:33.702995Z",
     "iopub.status.idle": "2021-01-05T14:44:33.708736Z",
     "shell.execute_reply": "2021-01-05T14:44:33.708011Z"
    },
    "papermill": {
     "duration": 4.629961,
     "end_time": "2021-01-05T14:44:33.708864",
     "exception": false,
     "start_time": "2021-01-05T14:44:29.078903",
     "status": "completed"
    },
    "tags": []
   },
   "outputs": [
    {
     "name": "stdout",
     "output_type": "stream",
     "text": [
      "RMSE: 510.73\n",
      "MAE: 359.77\n",
      "R2: 0.86\n"
     ]
    }
   ],
   "source": [
    "#compute metrics\n",
    "rmse = np.sqrt(mean_squared_error(pred_df2['True'], pred_df2['Prediction']))\n",
    "mae = mean_absolute_error(pred_df2['True'], pred_df2['Prediction'])\n",
    "r2 = r2_score(pred_df2['True'], pred_df2['Prediction'])\n",
    "print('RMSE: {}\\nMAE: {}\\nR2: {}'.format(round(rmse,2),round(mae,2), round(r2,2)))"
   ]
  },
  {
   "cell_type": "markdown",
   "metadata": {
    "papermill": {
     "duration": 4.620355,
     "end_time": "2021-01-05T14:44:42.844585",
     "exception": false,
     "start_time": "2021-01-05T14:44:38.224230",
     "status": "completed"
    },
    "tags": []
   },
   "source": [
    "I decided to manually change the hyperparameters and record the results of the network to see the impact on the training and validation loss as well as making small adjustments to see the overall effect of the parameter. "
   ]
  },
  {
   "cell_type": "code",
   "execution_count": 25,
   "metadata": {
    "execution": {
     "iopub.execute_input": "2021-01-05T14:44:52.039280Z",
     "iopub.status.busy": "2021-01-05T14:44:52.038555Z",
     "iopub.status.idle": "2021-01-05T14:44:52.043474Z",
     "shell.execute_reply": "2021-01-05T14:44:52.044005Z"
    },
    "papermill": {
     "duration": 4.690726,
     "end_time": "2021-01-05T14:44:52.044169",
     "exception": false,
     "start_time": "2021-01-05T14:44:47.353443",
     "status": "completed"
    },
    "tags": []
   },
   "outputs": [],
   "source": [
    "results = {'Test':[1,2,3,4,5,6,7,8,9,10,11,12,13,14,15,16,17,18,19,20,21,22],\n",
    "           'sample_size':[0.25,0.25,0.25,0.5,0.5,0.5,0.5,0.5,0.5,0.5,0.5,0.5,0.5,1,1,1,1,1,1,1,1,1],\n",
    "           'units':[8,8,8,8,8,12,16,16,16,32,32,32,32,64,64,32,32,32,32,32,32,32],\n",
    "           'layers':[2,2,2,2,2,2,2,2,2,2,2,2,2,2,2,2,2,2,2,2,2,2],\n",
    "           'drop_out':[0.2,0.2,0.1,0.1,0.1,0.1,0.1,0.05,0.05,0.05,0.05,0.05,0.05,0.05,0.05,0.05,0.05,0.05,0.05,0.05,0.05,0.05],\n",
    "           'batch_size':[14,14,14,14,14,14,14,14,14,14,14,7,21,21,14,14,14,21,14,14,14,14],\n",
    "           'learning_rate':[0.0001,0.0005,0.0005,0.0005,0.001,0.001,0.001,0.001,0.0005,0.0005,0.001,0.0005,0.0005,0.0005,0.0005,0.0005,0.001,0.0005,0.0005,0.0005,0.0005,0.0005],\n",
    "           'epochs':[50,30,30,30,30,30,30,30,30,30,30,30,30,30,30,30,40,40,40,40,30,40],\n",
    "           'RMSE':[689.87,603.55,577.52,525.36,507.46,484.93,478.51,477.91,489.13,476.17,478.19,487.14,479.56,535.83,497.55,487.31,498.46,535.63,496.71,493.76,496.2,496.35],\n",
    "           'MAE':[544.42,509.95,476.48,381.44,370.11,342.71,343.28,348.48,332.21,334.14,344.09,349.62,336.19,394.55,343.45,320.26,328.72,389.17,337.31,334.41,338.35,342.69],\n",
    "           'R2':['-','-','-','-','-','-','-','-',0.86,0.87,0.87,0.86,0.87,0.83,0.86,0.86,0.86,0.83,0.86,0.86,0.86,0.86]}"
   ]
  },
  {
   "cell_type": "code",
   "execution_count": 26,
   "metadata": {
    "execution": {
     "iopub.execute_input": "2021-01-05T14:45:01.394767Z",
     "iopub.status.busy": "2021-01-05T14:45:01.386654Z",
     "iopub.status.idle": "2021-01-05T14:45:01.413060Z",
     "shell.execute_reply": "2021-01-05T14:45:01.413561Z"
    },
    "papermill": {
     "duration": 4.622788,
     "end_time": "2021-01-05T14:45:01.413737",
     "exception": false,
     "start_time": "2021-01-05T14:44:56.790949",
     "status": "completed"
    },
    "tags": []
   },
   "outputs": [
    {
     "data": {
      "text/html": [
       "<div>\n",
       "<style scoped>\n",
       "    .dataframe tbody tr th:only-of-type {\n",
       "        vertical-align: middle;\n",
       "    }\n",
       "\n",
       "    .dataframe tbody tr th {\n",
       "        vertical-align: top;\n",
       "    }\n",
       "\n",
       "    .dataframe thead th {\n",
       "        text-align: right;\n",
       "    }\n",
       "</style>\n",
       "<table border=\"1\" class=\"dataframe\">\n",
       "  <thead>\n",
       "    <tr style=\"text-align: right;\">\n",
       "      <th></th>\n",
       "      <th>Test</th>\n",
       "      <th>sample_size</th>\n",
       "      <th>units</th>\n",
       "      <th>layers</th>\n",
       "      <th>drop_out</th>\n",
       "      <th>batch_size</th>\n",
       "      <th>learning_rate</th>\n",
       "      <th>epochs</th>\n",
       "      <th>RMSE</th>\n",
       "      <th>MAE</th>\n",
       "      <th>R2</th>\n",
       "    </tr>\n",
       "  </thead>\n",
       "  <tbody>\n",
       "    <tr>\n",
       "      <th>0</th>\n",
       "      <td>1</td>\n",
       "      <td>0.25</td>\n",
       "      <td>8</td>\n",
       "      <td>2</td>\n",
       "      <td>0.20</td>\n",
       "      <td>14</td>\n",
       "      <td>0.0001</td>\n",
       "      <td>50</td>\n",
       "      <td>689.87</td>\n",
       "      <td>544.42</td>\n",
       "      <td>-</td>\n",
       "    </tr>\n",
       "    <tr>\n",
       "      <th>1</th>\n",
       "      <td>2</td>\n",
       "      <td>0.25</td>\n",
       "      <td>8</td>\n",
       "      <td>2</td>\n",
       "      <td>0.20</td>\n",
       "      <td>14</td>\n",
       "      <td>0.0005</td>\n",
       "      <td>30</td>\n",
       "      <td>603.55</td>\n",
       "      <td>509.95</td>\n",
       "      <td>-</td>\n",
       "    </tr>\n",
       "    <tr>\n",
       "      <th>2</th>\n",
       "      <td>3</td>\n",
       "      <td>0.25</td>\n",
       "      <td>8</td>\n",
       "      <td>2</td>\n",
       "      <td>0.10</td>\n",
       "      <td>14</td>\n",
       "      <td>0.0005</td>\n",
       "      <td>30</td>\n",
       "      <td>577.52</td>\n",
       "      <td>476.48</td>\n",
       "      <td>-</td>\n",
       "    </tr>\n",
       "    <tr>\n",
       "      <th>3</th>\n",
       "      <td>4</td>\n",
       "      <td>0.50</td>\n",
       "      <td>8</td>\n",
       "      <td>2</td>\n",
       "      <td>0.10</td>\n",
       "      <td>14</td>\n",
       "      <td>0.0005</td>\n",
       "      <td>30</td>\n",
       "      <td>525.36</td>\n",
       "      <td>381.44</td>\n",
       "      <td>-</td>\n",
       "    </tr>\n",
       "    <tr>\n",
       "      <th>4</th>\n",
       "      <td>5</td>\n",
       "      <td>0.50</td>\n",
       "      <td>8</td>\n",
       "      <td>2</td>\n",
       "      <td>0.10</td>\n",
       "      <td>14</td>\n",
       "      <td>0.0010</td>\n",
       "      <td>30</td>\n",
       "      <td>507.46</td>\n",
       "      <td>370.11</td>\n",
       "      <td>-</td>\n",
       "    </tr>\n",
       "    <tr>\n",
       "      <th>5</th>\n",
       "      <td>6</td>\n",
       "      <td>0.50</td>\n",
       "      <td>12</td>\n",
       "      <td>2</td>\n",
       "      <td>0.10</td>\n",
       "      <td>14</td>\n",
       "      <td>0.0010</td>\n",
       "      <td>30</td>\n",
       "      <td>484.93</td>\n",
       "      <td>342.71</td>\n",
       "      <td>-</td>\n",
       "    </tr>\n",
       "    <tr>\n",
       "      <th>6</th>\n",
       "      <td>7</td>\n",
       "      <td>0.50</td>\n",
       "      <td>16</td>\n",
       "      <td>2</td>\n",
       "      <td>0.10</td>\n",
       "      <td>14</td>\n",
       "      <td>0.0010</td>\n",
       "      <td>30</td>\n",
       "      <td>478.51</td>\n",
       "      <td>343.28</td>\n",
       "      <td>-</td>\n",
       "    </tr>\n",
       "    <tr>\n",
       "      <th>7</th>\n",
       "      <td>8</td>\n",
       "      <td>0.50</td>\n",
       "      <td>16</td>\n",
       "      <td>2</td>\n",
       "      <td>0.05</td>\n",
       "      <td>14</td>\n",
       "      <td>0.0010</td>\n",
       "      <td>30</td>\n",
       "      <td>477.91</td>\n",
       "      <td>348.48</td>\n",
       "      <td>-</td>\n",
       "    </tr>\n",
       "    <tr>\n",
       "      <th>8</th>\n",
       "      <td>9</td>\n",
       "      <td>0.50</td>\n",
       "      <td>16</td>\n",
       "      <td>2</td>\n",
       "      <td>0.05</td>\n",
       "      <td>14</td>\n",
       "      <td>0.0005</td>\n",
       "      <td>30</td>\n",
       "      <td>489.13</td>\n",
       "      <td>332.21</td>\n",
       "      <td>0.86</td>\n",
       "    </tr>\n",
       "    <tr>\n",
       "      <th>9</th>\n",
       "      <td>10</td>\n",
       "      <td>0.50</td>\n",
       "      <td>32</td>\n",
       "      <td>2</td>\n",
       "      <td>0.05</td>\n",
       "      <td>14</td>\n",
       "      <td>0.0005</td>\n",
       "      <td>30</td>\n",
       "      <td>476.17</td>\n",
       "      <td>334.14</td>\n",
       "      <td>0.87</td>\n",
       "    </tr>\n",
       "    <tr>\n",
       "      <th>10</th>\n",
       "      <td>11</td>\n",
       "      <td>0.50</td>\n",
       "      <td>32</td>\n",
       "      <td>2</td>\n",
       "      <td>0.05</td>\n",
       "      <td>14</td>\n",
       "      <td>0.0010</td>\n",
       "      <td>30</td>\n",
       "      <td>478.19</td>\n",
       "      <td>344.09</td>\n",
       "      <td>0.87</td>\n",
       "    </tr>\n",
       "    <tr>\n",
       "      <th>11</th>\n",
       "      <td>12</td>\n",
       "      <td>0.50</td>\n",
       "      <td>32</td>\n",
       "      <td>2</td>\n",
       "      <td>0.05</td>\n",
       "      <td>7</td>\n",
       "      <td>0.0005</td>\n",
       "      <td>30</td>\n",
       "      <td>487.14</td>\n",
       "      <td>349.62</td>\n",
       "      <td>0.86</td>\n",
       "    </tr>\n",
       "    <tr>\n",
       "      <th>12</th>\n",
       "      <td>13</td>\n",
       "      <td>0.50</td>\n",
       "      <td>32</td>\n",
       "      <td>2</td>\n",
       "      <td>0.05</td>\n",
       "      <td>21</td>\n",
       "      <td>0.0005</td>\n",
       "      <td>30</td>\n",
       "      <td>479.56</td>\n",
       "      <td>336.19</td>\n",
       "      <td>0.87</td>\n",
       "    </tr>\n",
       "    <tr>\n",
       "      <th>13</th>\n",
       "      <td>14</td>\n",
       "      <td>1.00</td>\n",
       "      <td>64</td>\n",
       "      <td>2</td>\n",
       "      <td>0.05</td>\n",
       "      <td>21</td>\n",
       "      <td>0.0005</td>\n",
       "      <td>30</td>\n",
       "      <td>535.83</td>\n",
       "      <td>394.55</td>\n",
       "      <td>0.83</td>\n",
       "    </tr>\n",
       "    <tr>\n",
       "      <th>14</th>\n",
       "      <td>15</td>\n",
       "      <td>1.00</td>\n",
       "      <td>64</td>\n",
       "      <td>2</td>\n",
       "      <td>0.05</td>\n",
       "      <td>14</td>\n",
       "      <td>0.0005</td>\n",
       "      <td>30</td>\n",
       "      <td>497.55</td>\n",
       "      <td>343.45</td>\n",
       "      <td>0.86</td>\n",
       "    </tr>\n",
       "    <tr>\n",
       "      <th>15</th>\n",
       "      <td>16</td>\n",
       "      <td>1.00</td>\n",
       "      <td>32</td>\n",
       "      <td>2</td>\n",
       "      <td>0.05</td>\n",
       "      <td>14</td>\n",
       "      <td>0.0005</td>\n",
       "      <td>30</td>\n",
       "      <td>487.31</td>\n",
       "      <td>320.26</td>\n",
       "      <td>0.86</td>\n",
       "    </tr>\n",
       "    <tr>\n",
       "      <th>16</th>\n",
       "      <td>17</td>\n",
       "      <td>1.00</td>\n",
       "      <td>32</td>\n",
       "      <td>2</td>\n",
       "      <td>0.05</td>\n",
       "      <td>14</td>\n",
       "      <td>0.0010</td>\n",
       "      <td>40</td>\n",
       "      <td>498.46</td>\n",
       "      <td>328.72</td>\n",
       "      <td>0.86</td>\n",
       "    </tr>\n",
       "    <tr>\n",
       "      <th>17</th>\n",
       "      <td>18</td>\n",
       "      <td>1.00</td>\n",
       "      <td>32</td>\n",
       "      <td>2</td>\n",
       "      <td>0.05</td>\n",
       "      <td>21</td>\n",
       "      <td>0.0005</td>\n",
       "      <td>40</td>\n",
       "      <td>535.63</td>\n",
       "      <td>389.17</td>\n",
       "      <td>0.83</td>\n",
       "    </tr>\n",
       "    <tr>\n",
       "      <th>18</th>\n",
       "      <td>19</td>\n",
       "      <td>1.00</td>\n",
       "      <td>32</td>\n",
       "      <td>2</td>\n",
       "      <td>0.05</td>\n",
       "      <td>14</td>\n",
       "      <td>0.0005</td>\n",
       "      <td>40</td>\n",
       "      <td>496.71</td>\n",
       "      <td>337.31</td>\n",
       "      <td>0.86</td>\n",
       "    </tr>\n",
       "    <tr>\n",
       "      <th>19</th>\n",
       "      <td>20</td>\n",
       "      <td>1.00</td>\n",
       "      <td>32</td>\n",
       "      <td>2</td>\n",
       "      <td>0.05</td>\n",
       "      <td>14</td>\n",
       "      <td>0.0005</td>\n",
       "      <td>40</td>\n",
       "      <td>493.76</td>\n",
       "      <td>334.41</td>\n",
       "      <td>0.86</td>\n",
       "    </tr>\n",
       "    <tr>\n",
       "      <th>20</th>\n",
       "      <td>21</td>\n",
       "      <td>1.00</td>\n",
       "      <td>32</td>\n",
       "      <td>2</td>\n",
       "      <td>0.05</td>\n",
       "      <td>14</td>\n",
       "      <td>0.0005</td>\n",
       "      <td>30</td>\n",
       "      <td>496.20</td>\n",
       "      <td>338.35</td>\n",
       "      <td>0.86</td>\n",
       "    </tr>\n",
       "    <tr>\n",
       "      <th>21</th>\n",
       "      <td>22</td>\n",
       "      <td>1.00</td>\n",
       "      <td>32</td>\n",
       "      <td>2</td>\n",
       "      <td>0.05</td>\n",
       "      <td>14</td>\n",
       "      <td>0.0005</td>\n",
       "      <td>40</td>\n",
       "      <td>496.35</td>\n",
       "      <td>342.69</td>\n",
       "      <td>0.86</td>\n",
       "    </tr>\n",
       "  </tbody>\n",
       "</table>\n",
       "</div>"
      ],
      "text/plain": [
       "    Test  sample_size  units  layers  drop_out  batch_size  learning_rate  \\\n",
       "0      1         0.25      8       2      0.20          14         0.0001   \n",
       "1      2         0.25      8       2      0.20          14         0.0005   \n",
       "2      3         0.25      8       2      0.10          14         0.0005   \n",
       "3      4         0.50      8       2      0.10          14         0.0005   \n",
       "4      5         0.50      8       2      0.10          14         0.0010   \n",
       "5      6         0.50     12       2      0.10          14         0.0010   \n",
       "6      7         0.50     16       2      0.10          14         0.0010   \n",
       "7      8         0.50     16       2      0.05          14         0.0010   \n",
       "8      9         0.50     16       2      0.05          14         0.0005   \n",
       "9     10         0.50     32       2      0.05          14         0.0005   \n",
       "10    11         0.50     32       2      0.05          14         0.0010   \n",
       "11    12         0.50     32       2      0.05           7         0.0005   \n",
       "12    13         0.50     32       2      0.05          21         0.0005   \n",
       "13    14         1.00     64       2      0.05          21         0.0005   \n",
       "14    15         1.00     64       2      0.05          14         0.0005   \n",
       "15    16         1.00     32       2      0.05          14         0.0005   \n",
       "16    17         1.00     32       2      0.05          14         0.0010   \n",
       "17    18         1.00     32       2      0.05          21         0.0005   \n",
       "18    19         1.00     32       2      0.05          14         0.0005   \n",
       "19    20         1.00     32       2      0.05          14         0.0005   \n",
       "20    21         1.00     32       2      0.05          14         0.0005   \n",
       "21    22         1.00     32       2      0.05          14         0.0005   \n",
       "\n",
       "    epochs    RMSE     MAE    R2  \n",
       "0       50  689.87  544.42     -  \n",
       "1       30  603.55  509.95     -  \n",
       "2       30  577.52  476.48     -  \n",
       "3       30  525.36  381.44     -  \n",
       "4       30  507.46  370.11     -  \n",
       "5       30  484.93  342.71     -  \n",
       "6       30  478.51  343.28     -  \n",
       "7       30  477.91  348.48     -  \n",
       "8       30  489.13  332.21  0.86  \n",
       "9       30  476.17  334.14  0.87  \n",
       "10      30  478.19  344.09  0.87  \n",
       "11      30  487.14  349.62  0.86  \n",
       "12      30  479.56  336.19  0.87  \n",
       "13      30  535.83  394.55  0.83  \n",
       "14      30  497.55  343.45  0.86  \n",
       "15      30  487.31  320.26  0.86  \n",
       "16      40  498.46  328.72  0.86  \n",
       "17      40  535.63  389.17  0.83  \n",
       "18      40  496.71  337.31  0.86  \n",
       "19      40  493.76  334.41  0.86  \n",
       "20      30  496.20  338.35  0.86  \n",
       "21      40  496.35  342.69  0.86  "
      ]
     },
     "execution_count": 26,
     "metadata": {},
     "output_type": "execute_result"
    }
   ],
   "source": [
    "results_df = pd.DataFrame(data=results)\n",
    "results_df"
   ]
  }
 ],
 "metadata": {
  "kernelspec": {
   "display_name": "Python 3",
   "language": "python",
   "name": "python3"
  },
  "language_info": {
   "codemirror_mode": {
    "name": "ipython",
    "version": 3
   },
   "file_extension": ".py",
   "mimetype": "text/x-python",
   "name": "python",
   "nbconvert_exporter": "python",
   "pygments_lexer": "ipython3",
   "version": "3.10.12"
  },
  "papermill": {
   "duration": 4333.956078,
   "end_time": "2021-01-05T14:45:06.157913",
   "environment_variables": {},
   "exception": null,
   "input_path": "__notebook__.ipynb",
   "output_path": "__notebook__.ipynb",
   "parameters": {},
   "start_time": "2021-01-05T13:32:52.201835",
   "version": "2.1.0"
  }
 },
 "nbformat": 4,
 "nbformat_minor": 4
}
